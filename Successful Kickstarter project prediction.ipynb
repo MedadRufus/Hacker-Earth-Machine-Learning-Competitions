{
 "cells": [
  {
   "cell_type": "code",
   "execution_count": 2,
   "metadata": {
    "collapsed": true
   },
   "outputs": [],
   "source": [
    "import pandas as pd\n",
    "import  numpy as np\n",
    "\n",
    "train_df = pd.read_csv(\"Funding Successful Projects prediction/raw data/train.csv\",\n",
    "                       usecols=[\"final_status\",\"keywords\"],nrows =4000)\n",
    "train_df.fillna(value=\"not known\",inplace=True)\n",
    "#train_df['all_words'] = train_df[[\"name\",\"desc\"]].apply(lambda x: ' '.join(x), axis=1)\n",
    "target_train_df = train_df[\"final_status\"]"
   ]
  },
  {
   "cell_type": "code",
   "execution_count": 8,
   "metadata": {
    "collapsed": false
   },
   "outputs": [
    {
     "data": {
      "text/html": [
       "<div>\n",
       "<style>\n",
       "    .dataframe thead tr:only-child th {\n",
       "        text-align: right;\n",
       "    }\n",
       "\n",
       "    .dataframe thead th {\n",
       "        text-align: left;\n",
       "    }\n",
       "\n",
       "    .dataframe tbody tr th {\n",
       "        vertical-align: top;\n",
       "    }\n",
       "</style>\n",
       "<table border=\"1\" class=\"dataframe\">\n",
       "  <thead>\n",
       "    <tr style=\"text-align: right;\">\n",
       "      <th></th>\n",
       "      <th>keywords</th>\n",
       "      <th>final_status</th>\n",
       "    </tr>\n",
       "  </thead>\n",
       "  <tbody>\n",
       "    <tr>\n",
       "      <th>0</th>\n",
       "      <td>drawing-for-dollars</td>\n",
       "      <td>1</td>\n",
       "    </tr>\n",
       "    <tr>\n",
       "      <th>1</th>\n",
       "      <td>sponsor-dereck-blackburn-lostwars-artist-in-re...</td>\n",
       "      <td>0</td>\n",
       "    </tr>\n",
       "    <tr>\n",
       "      <th>2</th>\n",
       "      <td>mr-squiggles</td>\n",
       "      <td>0</td>\n",
       "    </tr>\n",
       "    <tr>\n",
       "      <th>3</th>\n",
       "      <td>help-me-write-my-second-novel</td>\n",
       "      <td>1</td>\n",
       "    </tr>\n",
       "    <tr>\n",
       "      <th>4</th>\n",
       "      <td>support-casting-my-sculpture-in-bronze</td>\n",
       "      <td>0</td>\n",
       "    </tr>\n",
       "  </tbody>\n",
       "</table>\n",
       "</div>"
      ],
      "text/plain": [
       "<div>\n",
       "<style>\n",
       "    .dataframe thead tr:only-child th {\n",
       "        text-align: right;\n",
       "    }\n",
       "\n",
       "    .dataframe thead th {\n",
       "        text-align: left;\n",
       "    }\n",
       "\n",
       "    .dataframe tbody tr th {\n",
       "        vertical-align: top;\n",
       "    }\n",
       "</style>\n",
       "<table border=\"1\" class=\"dataframe\">\n",
       "  <thead>\n",
       "    <tr style=\"text-align: right;\">\n",
       "      <th></th>\n",
       "      <th>keywords</th>\n",
       "      <th>final_status</th>\n",
       "    </tr>\n",
       "  </thead>\n",
       "  <tbody>\n",
       "    <tr>\n",
       "      <th>0</th>\n",
       "      <td>drawing-for-dollars</td>\n",
       "      <td>1</td>\n",
       "    </tr>\n",
       "    <tr>\n",
       "      <th>1</th>\n",
       "      <td>sponsor-dereck-blackburn-lostwars-artist-in-re...</td>\n",
       "      <td>0</td>\n",
       "    </tr>\n",
       "    <tr>\n",
       "      <th>2</th>\n",
       "      <td>mr-squiggles</td>\n",
       "      <td>0</td>\n",
       "    </tr>\n",
       "    <tr>\n",
       "      <th>3</th>\n",
       "      <td>help-me-write-my-second-novel</td>\n",
       "      <td>1</td>\n",
       "    </tr>\n",
       "    <tr>\n",
       "      <th>4</th>\n",
       "      <td>support-casting-my-sculpture-in-bronze</td>\n",
       "      <td>0</td>\n",
       "    </tr>\n",
       "  </tbody>\n",
       "</table>\n",
       "</div>"
      ]
     },
     "execution_count": 8,
     "metadata": {},
     "output_type": "execute_result"
    }
   ],
   "source": [
    "train_df.head()"
   ]
  },
  {
   "cell_type": "code",
   "execution_count": 5,
   "metadata": {},
   "outputs": [],
   "source": [
    "def split_keywords(df):\n",
    "    return df[\"keywords\"].str.split(pat=\"-\", n=-1, expand=False)\n",
    "train_df[\"splitted_keywords\"] = split_keywords(train_df)"
   ]
  },
  {
   "cell_type": "code",
   "execution_count": 21,
   "metadata": {},
   "outputs": [],
   "source": [
    "from sklearn.feature_extraction.text import TfidfVectorizer\n",
    "tv = TfidfVectorizer()\n",
    "tfidf_train = tv.fit_transform(train_df[\"keywords\"])"
   ]
  },
  {
   "cell_type": "code",
   "execution_count": 22,
   "metadata": {
    "collapsed": true
   },
   "outputs": [
    {
     "data": {
      "text/plain": [
       "(7302,\n ['001',\n  '00am',\n  '01',\n  '08',\n  '10',\n  '100',\n  '1000',\n  '101',\n  '101s',\n  '104',\n  '10th',\n  '11',\n  '12',\n  '12inch',\n  '13',\n  '13th',\n  '14',\n  '140',\n  '14000',\n  '144',\n  '15',\n  '16',\n  '16mm',\n  '16th',\n  '1901',\n  '1930s',\n  '1950s',\n  '1957',\n  '196',\n  '1968',\n  '1970s',\n  '1976',\n  '1978',\n  '1980',\n  '1985',\n  '1988',\n  '1989',\n  '1990',\n  '1995',\n  '1999',\n  '1st',\n  '20',\n  '200',\n  '2007',\n  '2009',\n  '201',\n  '2010',\n  '2010s',\n  '2011',\n  '2012',\n  '20s',\n  '21',\n  '21st',\n  '22',\n  '227',\n  '24',\n  '25',\n  '2600',\n  '27',\n  '2707',\n  '28',\n  '2d',\n  '2e',\n  '2morrow',\n  '2nd',\n  '30',\n  '3000',\n  '320',\n  '350',\n  '35mm',\n  '36',\n  '360',\n  '365',\n  '37',\n  '38',\n  '3d',\n  '3rd',\n  '40',\n  '4000',\n  '40love',\n  '42',\n  '469',\n  '48',\n  '4e',\n  '4th',\n  '50',\n  '500',\n  '500000',\n  '504',\n  '53',\n  '55',\n  '5th',\n  '60',\n  '6000',\n  '60s',\n  '63',\n  '67',\n  '6th',\n  '731',\n  '80s',\n  '82',\n  '90',\n  '9000',\n  '90s',\n  '911',\n  '99ents',\n  '9th',\n  'aakash',\n  'aaron',\n  'ab',\n  'abc',\n  'abduction',\n  'abecedarian',\n  'abel',\n  'abolitionist',\n  'abortion',\n  'abou',\n  'about',\n  'above',\n  'abraham',\n  'abramowitz',\n  'abroad',\n  'absence',\n  'absentia',\n  'absorbent',\n  'absurd',\n  'absynth',\n  'abuse',\n  'ac',\n  'acamonchi',\n  'acceptance',\n  'access',\n  'accidentals',\n  'acconci',\n  'accordionist',\n  'aces',\n  'ache',\n  'achordial',\n  'achuar',\n  'acid',\n  'ackleys',\n  'ackwards',\n  'acoustic',\n  'acr',\n  'acrophobe',\n  'across',\n  'act',\n  'action',\n  'activ',\n  'activate',\n  'acts',\n  'actual',\n  'actually',\n  'ad',\n  'adam',\n  'adams',\n  'adaptation',\n  'adapted',\n  'adcas',\n  'add',\n  'addicube',\n  'adding',\n  'adizes',\n  'adkins',\n  'administration',\n  'adonis',\n  'adoption',\n  'adrienne',\n  'ads',\n  'adults',\n  'adumbral',\n  'adventu',\n  'adventur',\n  'adventure',\n  'adventures',\n  'advocacy',\n  'aeronautical',\n  'aesthetic',\n  'affair',\n  'affected',\n  'affordable',\n  'affrila',\n  'afghanistan',\n  'afk',\n  'africa',\n  'african',\n  'afro',\n  'after',\n  'afterlife',\n  'afterlight',\n  'aftermass',\n  'aftermath',\n  'afternoon',\n  'aga',\n  'again',\n  'agains',\n  'against',\n  'agave',\n  'age',\n  'agency',\n  'agent',\n  'ages',\n  'ago',\n  'ahead',\n  'ai',\n  'aids',\n  'aiming',\n  'air',\n  'airplanes',\n  'airships',\n  'airtight',\n  'aj',\n  'akabellas',\n  'akira',\n  'ako',\n  'al',\n  'alabama',\n  'alam',\n  'alan',\n  'alana',\n  'alaska',\n  'alaskan',\n  'alb',\n  'albino',\n  'albritton',\n  'albu',\n  'album',\n  'albumfinally',\n  'albums',\n  'alcatraz',\n  'alch',\n  'alchemical',\n  'alcohol',\n  'alert',\n  'alex',\n  'alexa',\n  'alexande',\n  'alexander',\n  'alfonso',\n  'algarve',\n  'algo',\n  'algorithms',\n  'alias',\n  'alice',\n  'alices',\n  'alien',\n  'aliens',\n  'alive',\n  'all',\n  'allegiance',\n  'allen',\n  'alli',\n  'alliance',\n  'allies',\n  'alligator',\n  'allison',\n  'alloneword',\n  'alma',\n  'almighty',\n  'almost',\n  'alms',\n  'alone',\n  'along',\n  'alors',\n  'aloud',\n  'alpha',\n  'alphab',\n  'alphabet',\n  'alphastatic',\n  'alphonse',\n  'already',\n  'alright',\n  'als',\n  'alt',\n  'altering',\n  'alternative',\n  'alumni',\n  'always',\n  'am',\n  'amanda',\n  'amandas',\n  'amazing',\n  'amazon',\n  'amazons',\n  'amber',\n  'amberpark',\n  'ambiti',\n  'ame',\n  'amer',\n  'ameri',\n  'america',\n  'american',\n  'americana',\n  'americas',\n  'amerika',\n  'amo',\n  'among',\n  'amour',\n  'amplifying',\n  'amrak',\n  'amy',\n  'an',\n  'anacaona',\n  'analog',\n  'analysis',\n  'analyzer',\n  'anatomy',\n  'anatta',\n  'ancestors',\n  'ancestry',\n  'ancient',\n  'ancients',\n  'and',\n  'anderson',\n  'andr',\n  'andrei',\n  'andrew',\n  'android',\n  'angel',\n  'angela',\n  'angeles',\n  'angels',\n  'angie',\n  'angola',\n  'animal',\n  'animals',\n  'animated',\n  'animating',\n  'animation',\n  'animus',\n  'anita',\n  'anitopia',\n  'ann',\n  'anna',\n  'anne',\n  'annibale',\n  'annie',\n  'anniversar',\n  'anniversary',\n  'annotating',\n  'annotations',\n  'annual',\n  'anomalies',\n  'anonymous',\n  'another',\n  'ant',\n  'antagonist',\n  'antenna',\n  'anthology',\n  'anthony',\n  'anthropos',\n  'anti',\n  'anticipated',\n  'antilogorg',\n  'antipledge',\n  'antiques',\n  'anton',\n  'antonio',\n  'ants',\n  'anything',\n  'apart',\n  'apartscape',\n  'apocalypse',\n  'apocalyptic',\n  'apology',\n  'apostles',\n  'app',\n  'appalachia',\n  'apple',\n  'applehead',\n  'applestarr',\n  'application',\n  'applications',\n  'apprec',\n  'approach',\n  'apps',\n  'april',\n  'aqua',\n  'aqui',\n  'ar',\n  'arab',\n  'araby',\n  'arboreas',\n  'arbornauts',\n  'arc',\n  'arcade',\n  'archaeology',\n  'archguitar',\n  'architecture',\n  'archive',\n  'archives',\n  'archiving',\n  'archnemeses',\n  'arcos',\n  'arctic',\n  'arduino',\n  'ardwin',\n  'are',\n  'area',\n  'argyle',\n  'ari',\n  'ariana',\n  'arigato',\n  'arise',\n  'armada',\n  'armegeddon',\n  'armor',\n  'arms',\n  'army',\n  'around',\n  'art',\n  'artcult',\n  'artelexiabringing',\n  'artemis',\n  'artfarm',\n  'arthrow',\n  'artifacts',\n  'artifice',\n  'artificial',\n  'artis',\n  'artist',\n  'artistic',\n  'artistikal',\n  'artists',\n  'artloop',\n  'artprize',\n  'arts',\n  'artwork',\n  'artworks',\n  'as',\n  'ascension',\n  'asexuality',\n  'asher',\n  'asheville',\n  'asia',\n  'asian',\n  'ask',\n  'asks',\n  'asleep',\n  'asobi',\n  'aspectus',\n  'aspiring',\n  'assembly',\n  'assignment',\n  'assimilation',\n  'assist',\n  'assistance',\n  'assistant',\n  'associates',\n  'association',\n  'assumption',\n  'astdroid',\n  'astronauts',\n  'asylum',\n  'at',\n  'atari',\n  'atc',\n  'ate',\n  'athens',\n  'atlanta',\n  'atlantic',\n  'atlantica',\n  'atlas',\n  'atomica',\n  'atrium',\n  'attached',\n  'attack',\n  'attempts',\n  'attracting',\n  'attractive',\n  'audie',\n  'audien',\n  'audience',\n  'audio',\n  'audioand',\n  'audiogame',\n  'audreality',\n  'augmented',\n  'august',\n  'auric',\n  'austen',\n  'austin',\n  'authentic',\n  'author',\n  'authors',\n  'autism',\n  'autoautomatic',\n  'autobiographical',\n  'automobile',\n  'ava',\n  'avant',\n  'avatar',\n  'aven',\n  'avenue',\n  'average',\n  'avian',\n  'avocation',\n  'awaited',\n  'awake',\n  'awaken',\n  'awakening',\n  'award',\n  'awards',\n  'awareness',\n  'away',\n  'awesome',\n  'awp',\n  'axel',\n  'axelrods',\n  'axematchcom',\n  'axis',\n  'ay',\n  'azamar',\n  'azeri',\n  'ba',\n  'babies',\n  'baby',\n  'babycastles',\n  'bach',\n  'back',\n  'backer',\n  'background',\n  'backgrounds',\n  'backseat',\n  'bacon',\n  'bad',\n  'badog',\n  'bads',\n  'bag',\n  'bagpipers',\n  'bah',\n  'bailen',\n  'bailey',\n  'bailout',\n  'baine',\n  'bait',\n  'bake',\n  'baker',\n  'balance',\n  'balancing',\n  'baldaquin',\n  'bali',\n  'balinese',\n  'balkans',\n  'ball',\n  'ballad',\n  'ballads',\n  'ballards',\n  'ballerina',\n  'ballerinas',\n  'balloon',\n  'balloons',\n  'balthrop',\n  'baltimore',\n  'bam',\n  'bamboo',\n  'band',\n  'bandhouse',\n  'bandits',\n  'bands',\n  'bandwagon',\n  'bang',\n  'banned',\n  'banner',\n  'banquette',\n  'bar',\n  'baraat',\n  'bare',\n  'baristas',\n  'barn',\n  'barnes',\n  'baronis',\n  'baroque',\n  'base',\n  'baseball',\n  'based',\n  'basel',\n  'basic',\n  'basics',\n  'basot',\n  'bass',\n  'bassoon',\n  'bastard',\n  'bates',\n  'batman',\n  'batmobile',\n  'battle',\n  'battlehooch',\n  'battlemap',\n  'battlepults',\n  'bauer',\n  'baumanns',\n  'baxa',\n  'bay',\n  'baybayin',\n  'bayou',\n  'bayreuth',\n  'be',\n  'beach',\n  'bear',\n  'beard',\n  'beards',\n  'bearfoot',\n  'bearing',\n  'bears',\n  'beasel',\n  'beast',\n  'beasts',\n  'beasty',\n  'beat',\n  'beatallica',\n  'beatbox',\n  'beaten',\n  'beatle',\n  'beatz',\n  'beaucoup',\n  'beauteous',\n  'beautiful',\n  'beauty',\n  'beautyhealth',\n  'because',\n  'beckers',\n  'becks',\n  'become',\n  'becomes',\n  'becoming',\n  'bed',\n  'bedlam',\n  'bedroom',\n  'bee',\n  'beebe',\n  'beehive',\n  'been',\n  'beer',\n  'bees',\n  'beethovens',\n  'beezly',\n  'befor',\n  'before',\n  'begin',\n  'begining',\n  'beginning',\n  'behave',\n  'behaviors',\n  'behind',\n  'behold',\n  'beijing',\n  'being',\n  'belief',\n  'believes',\n  'bella',\n  'bellenoit',\n  'belles',\n  'bellock',\n  'below',\n  'belt',\n  'ben',\n  'bending',\n  'beneath',\n  'benefit',\n  'benyc',\n  'bergerons',\n  'berkeley',\n  'berlin',\n  'besides',\n  'bess',\n  'best',\n  'bestest',\n  'beta',\n  'betacup',\n  'beth',\n  'bethlehem',\n  'betsey',\n  'better',\n  'betterscape',\n  'between',\n  'bewildered',\n  'beyond',\n  'bfa',\n  'bff',\n  'bialostoskys',\n  'bible',\n  'biblical',\n  'bici',\n  'bicycle',\n  'biennial',\n  'big',\n  'bigfoot',\n  'bigger',\n  'biggest',\n  'bigquan',\n  'bihn',\n  'bike',\n  'bikebike',\n  'bilals',\n  'bilingual',\n  'bill',\n  'bills',\n  'billy',\n  'bilocal',\n  'bima',\n  'bindy',\n  'biodiesel',\n  'biotech',\n  'biotechnology',\n  'biplane',\n  'bipolar',\n  'bird',\n  'birdproject',\n  'birds',\n  'birth',\n  'birthchart',\n  'birthday',\n  'births',\n  'bishop',\n  'bison',\n  'bit',\n  'bitches',\n  'bitchs',\n  'bite',\n  'bites',\n  'bits',\n  'biz',\n  'bizarre',\n  'bl',\n  'black',\n  'blackberry',\n  'blackburn',\n  'blackers',\n  'blackeyed',\n  'blackmans',\n  'blackness',\n  'blade',\n  'blades',\n  'blago',\n  'blaire',\n  'blameshift',\n  'blanc',\n  'blank',\n  'blanklab',\n  'blanks',\n  'blast',\n  'bleachbangsrock',\n  'blend',\n  'blender',\n  'blending',\n  'bless',\n  'blessed',\n  'blessings',\n  'blimp',\n  'blind',\n  'blindauers',\n  'blink',\n  'bliss',\n  'block',\n  'blog',\n  'blood',\n  'bloodfest',\n  'bloodline',\n  'bloody',\n  'bloom',\n  'blow',\n  'blu',\n  'blue',\n  'blueberries',\n  'blues',\n  'bluest',\n  'bluff',\n  'blum',\n  'blvd',\n  'bm2010',\n  'bmore',\n  'bo',\n  'boar',\n  'board',\n  'boards',\n  'boat',\n  'boats',\n  'bob',\n  'bobby',\n  'bodies',\n  'body',\n  'boekbinder',\n  'boenishs',\n  'bohemian',\n  'boka',\n  'boldly',\n  'bomb',\n  'bombara',\n  'bombastic',\n  'bombpops',\n  'bombs',\n  'bone',\n  'bones',\n  'bonesaw',\n  'boneshaker',\n  'boneslinky',\n  'bonjour',\n  'bonnie',\n  'bonus',\n  'boo',\n  'book',\n  'bookbinder',\n  'booke',\n  'bookmarking',\n  'books',\n  'bookstore',\n  'booooooth',\n  'boost',\n  'booster',\n  'booth',\n  'booty',\n  'bor',\n  'border',\n  'borders',\n  'boring',\n  'boris',\n  'borrowed',\n  'bos',\n  'boss',\n  'boston',\n  'bot',\n  'botanica',\n  'bounce',\n  'bound',\n  'bounty',\n  'bourgeois',\n  'bowman',\n  'box',\n  'boxing',\n  'boy',\n  'boyfriend',\n  'boys',\n  'bp',\n  'br',\n  'bracelets',\n  'bracket',\n  'bradley',\n  'bragg',\n  'brain',\n  'brainchildren',\n  'brainerd',\n  'brainless',\n  'branam',\n  'branca',\n  'brand',\n  'branded',\n  'brandi',\n  'brandon',\n  'brandtson',\n  'brass',\n  'brave',\n  'brawler',\n  'brazil',\n  'brazilian',\n  'bread',\n  'break',\n  'breakdown',\n  'breakfast',\n  'breaking',\n  'breakmark',\n  'breakroom',\n  'breaks',\n  'breast',\n  'breastfeeding',\n  'breath',\n  'breathe',\n  'brent',\n  'brenton',\n  'brett',\n  'bretts',\n  'brian',\n  'bridge',\n  'bridging',\n  'briefcase',\n  'brigade',\n  'brigadoon',\n  'briggs',\n  'bright',\n  'brilliant',\n  'bring',\n  'bringing',\n  'brings',\n  'brio',\n  'brit',\n  'british',\n  'broadcast',\n  'broadw',\n  'broadway',\n  'brobots',\n  'brock',\n  'broken',\n  'bromaction',\n  'bronze',\n  'brooke',\n  'brooklyn',\n  'broommaster',\n  'bros',\n  'brothe',\n  'brothel',\n  'brother',\n  'brothers',\n  'brou',\n  'brought',\n  'broussard',\n  'browder',\n  'brower',\n  'brown',\n  'browns',\n  'brucejamessoultet',\n  'bruces',\n  'brunners',\n  'brush',\n  'brushing',\n  'brushy',\n  'brussels',\n  'brutal',\n  'bryce',\n  'bu',\n  'bubble',\n  'bubblegum',\n  'bubbles',\n  'bucket',\n  'bucks',\n  'buddha',\n  'buddhist',\n  'budget',\n  'budgeted',\n  'buduburam',\n  'budzillus',\n  'buffalo',\n  'bug',\n  'bugbaby',\n  'build',\n  'builder',\n  'buildin',\n  'building',\n  'builds',\n  'built',\n  'bulletin',\n  'bumpy',\n  'bumsy',\n  'bundled',\n  'bunghole',\n  'bunker',\n  'bunny',\n  'bur',\n  'burbs',\n  'burglary',\n  'burial',\n  'burma',\n  'burn',\n  'burners',\n  'burning',\n  'burquena',\n  'burroughs',\n  'bus',\n  'busby',\n  'buscando',\n  'bush',\n  'bushes',\n  'bushwick',\n  'busin',\n  'business',\n  'busk',\n  'bussard',\n  'bust',\n  'busy',\n  'but',\n  'butoh',\n  'butter',\n  'buttered',\n  'butterflies',\n  'button',\n  'buy',\n  'buzz',\n  'bwekisodde',\n  'by',\n  'bye',\n  'byrds',\n  'ca',\n  'cab',\n  'caba',\n  'cabin',\n  'cactus',\n  'caddy',\n  'cadet',\n  'cafe',\n  'caged',\n  'caguama',\n  'caitlin',\n  'cajun',\n  'cake',\n  'caleb',\n  'calend',\n  'calendar',\n  'calgar',\n  'california',\n  'call',\n  'called',\n  ...])"
      ]
     },
     "execution_count": 22,
     "metadata": {},
     "output_type": "execute_result"
    }
   ],
   "source": [
    "len(tv.get_feature_names()),tv.get_feature_names()"
   ]
  },
  {
   "cell_type": "code",
   "execution_count": 4,
   "metadata": {},
   "outputs": [],
   "source": [
    "# Utility function to report best scores\n",
    "from time import gmtime, strftime\n",
    "def report(results, n_top=10):\n",
    "    \"\"\"\n",
    "    :param results: list\n",
    "    :param n_top: int\n",
    "    :return: None\n",
    "    \"\"\"\n",
    "    print(\"Report generated at {}\".format(strftime(\"%d-%m-%Y %H:%M:%S\")))\n",
    "    print(\"\")\n",
    "    for i in range(1, n_top + 1):\n",
    "        candidates = np.flatnonzero(results['rank_test_score'] == i)\n",
    "        for candidate in candidates:\n",
    "            print(\"Model with rank: {0}\".format(i))\n",
    "            print(\"Mean validation score: {0:.6f} (std: {1:.6f}),time:{2:.3f}\".format(\n",
    "                results['mean_test_score'][candidate],\n",
    "                results['std_test_score'][candidate],\n",
    "                results[\"mean_fit_time\"][candidate]))\n",
    "            print(\"Parameters: {0}\".format(results['params'][candidate]))\n",
    "            print(\"\")"
   ]
  },
  {
   "cell_type": "code",
   "execution_count": 23,
   "metadata": {
    "collapsed": true
   },
   "outputs": [
    {
     "name": "stderr",
     "output_type": "stream",
     "text": [
      "C:\\Users\\user\\Anaconda3.6\\envs\\python35env\\lib\\site-packages\\sklearn\\cross_validation.py:44: DeprecationWarning: This module was deprecated in version 0.18 in favor of the model_selection module into which all the refactored classes and functions are moved. Also note that the interface of the new CV iterators are different from that of this module. This module will be removed in 0.20.\n  \"This module will be removed in 0.20.\", DeprecationWarning)\n"
     ]
    },
    {
     "name": "stdout",
     "output_type": "stream",
     "text": [
      "done in 0.288s\nReport generated at 24-06-2017 01:02:15\n\nModel with rank: 1\nMean validation score: 0.641250 (std: 0.002372),time:0.043\nParameters: {}\n\n"
     ]
    }
   ],
   "source": [
    "#using the pipeline\n",
    "import numpy as np\n",
    "from time import time\n",
    "from sklearn.ensemble import RandomForestClassifier\n",
    "from sklearn.model_selection import GridSearchCV\n",
    "from sklearn.linear_model import LogisticRegression,RidgeClassifier,SGDClassifier\n",
    "from xgboost import XGBClassifier\n",
    "from sklearn.ensemble import GradientBoostingClassifier\n",
    "from sklearn.naive_bayes import MultinomialNB,BernoulliNB\n",
    "from sklearn.neural_network import MLPClassifier\n",
    "\n",
    "parameters = {}\n",
    "#parameters = {'min_samples_split':[30,60,90], \n",
    "#              'n_estimators':[90],\n",
    "#              \"learning_rate\":[0.001],\n",
    "#              \"loss\":[\"deviance\"]\n",
    "#              }\n",
    "#clf = GradientBoostingClassifier(n_estimators=60)\n",
    "#clf = XGBClassifier()\n",
    "#clf = SVC(kernel='poly', probability=True,C = 160,degree=3)\n",
    "#clf = MLPClassifier( hidden_layer_sizes=(5,2))\n",
    "#clf = MultinomialNB(alpha=0.01)\n",
    "#clf = BernoulliNB()\n",
    "#clf = RandomForestClassifier(n_estimators=30)\n",
    "#parameters={\"fit_intercept\":[True,False]}\n",
    "clf = LogisticRegression()\n",
    "\n",
    "grid = GridSearchCV(clf,parameters,scoring='accuracy',cv=5)\n",
    "\n",
    "\n",
    "t0 = time()\n",
    "grid.fit(tfidf_train,train_df[\"final_status\"])\n",
    "print(\"done in %0.3fs\" % (time() - t0)) \n",
    "report(grid.cv_results_,n_top=10)"
   ]
  },
  {
   "cell_type": "markdown",
   "metadata": {},
   "source": [
    "We do some pipelining"
   ]
  },
  {
   "cell_type": "code",
   "execution_count": 14,
   "metadata": {},
   "outputs": [
    {
     "name": "stdout",
     "output_type": "stream",
     "text": [
      "GBC: 0.640283 (0.056943)\n"
     ]
    },
    {
     "name": "stdout",
     "output_type": "stream",
     "text": [
      "RFC: 0.642846 (0.069987)\n"
     ]
    },
    {
     "name": "stdout",
     "output_type": "stream",
     "text": [
      "SVM: 0.637909 (0.087969)\n"
     ]
    }
   ],
   "source": [
    "from sklearn import model_selection\n",
    "from sklearn.linear_model import LogisticRegression\n",
    "from sklearn.tree import DecisionTreeClassifier\n",
    "from sklearn.neighbors import KNeighborsClassifier\n",
    "from sklearn.discriminant_analysis import LinearDiscriminantAnalysis\n",
    "from sklearn.naive_bayes import GaussianNB\n",
    "from sklearn.svm import SVC\n",
    "from sklearn.ensemble import RandomForestClassifier\n",
    "from sklearn.ensemble import GradientBoostingClassifier\n",
    "\n",
    "# prepare configuration for cross validation test harness\n",
    "seed = 7\n",
    "# prepare models\n",
    "models = []\n",
    "#models.append(('LR', LogisticRegression()))\n",
    "#models.append(('LDA', LinearDiscriminantAnalysis()))\n",
    "#models.append(('KNN', KNeighborsClassifier()))\n",
    "#models.append(('CART', DecisionTreeClassifier()))\n",
    "#models.append(('NB', GaussianNB()))\n",
    "models.append(('GBC', GradientBoostingClassifier(n_estimators=50)))\n",
    "models.append(('RFC', RandomForestClassifier(n_estimators=50)))\n",
    "models.append(('SVM', SVC()))\n",
    "# evaluate each model in turn\n",
    "results = []\n",
    "names = []\n",
    "scoring = 'accuracy'\n",
    "for name, model in models:\n",
    "\tkfold = model_selection.KFold(n_splits=6, random_state=seed)\n",
    "\tcv_results = model_selection.cross_val_score(model,tfidf_train.toarray(),train_df[\"final_status\"], cv=kfold, scoring=scoring)\n",
    "\tresults.append(cv_results)\n",
    "\tnames.append(name)\n",
    "\tmsg = \"%s: %f (%f)\" % (name, cv_results.mean(), cv_results.std())\n",
    "\tprint(msg)"
   ]
  },
  {
   "cell_type": "code",
   "execution_count": 27,
   "metadata": {
    "collapsed": true
   },
   "outputs": [
    {
     "ename": "KeyboardInterrupt",
     "evalue": "",
     "traceback": [
      "\u001b[0;31m---------------------------------------------------------------------------\u001b[0m",
      "\u001b[0;31mKeyboardInterrupt\u001b[0m                         Traceback (most recent call last)",
      "\u001b[0;32m<ipython-input-27-6a8300a5714d>\u001b[0m in \u001b[0;36m<module>\u001b[0;34m()\u001b[0m\n\u001b[1;32m     24\u001b[0m \u001b[1;33m\u001b[0m\u001b[0m\n\u001b[1;32m     25\u001b[0m \u001b[0mstart\u001b[0m \u001b[1;33m=\u001b[0m \u001b[0mtime\u001b[0m\u001b[1;33m(\u001b[0m\u001b[1;33m)\u001b[0m\u001b[1;33m\u001b[0m\u001b[0m\n\u001b[0;32m---> 26\u001b[0;31m \u001b[0mrandom_search\u001b[0m\u001b[1;33m.\u001b[0m\u001b[0mfit\u001b[0m\u001b[1;33m(\u001b[0m\u001b[0mtfidf_train\u001b[0m\u001b[1;33m.\u001b[0m\u001b[0mtoarray\u001b[0m\u001b[1;33m(\u001b[0m\u001b[1;33m)\u001b[0m\u001b[1;33m,\u001b[0m\u001b[0mtrain_df\u001b[0m\u001b[1;33m[\u001b[0m\u001b[1;34m\"final_status\"\u001b[0m\u001b[1;33m]\u001b[0m\u001b[1;33m)\u001b[0m\u001b[1;33m\u001b[0m\u001b[0m\n\u001b[0m\u001b[1;32m     27\u001b[0m print(\"RandomizedSearchCV took %.2f seconds for %d candidates\"\n\u001b[1;32m     28\u001b[0m       \" parameter settings.\" % ((time() - start), n_iter_search))\n",
      "\u001b[0;32mC:\\Users\\user\\Anaconda3.6\\envs\\python35env\\lib\\site-packages\\sklearn\\model_selection\\_search.py\u001b[0m in \u001b[0;36mfit\u001b[0;34m(self, X, y, groups)\u001b[0m\n\u001b[1;32m   1188\u001b[0m                                           \u001b[0mself\u001b[0m\u001b[1;33m.\u001b[0m\u001b[0mn_iter\u001b[0m\u001b[1;33m,\u001b[0m\u001b[1;33m\u001b[0m\u001b[0m\n\u001b[1;32m   1189\u001b[0m                                           random_state=self.random_state)\n\u001b[0;32m-> 1190\u001b[0;31m         \u001b[1;32mreturn\u001b[0m \u001b[0mself\u001b[0m\u001b[1;33m.\u001b[0m\u001b[0m_fit\u001b[0m\u001b[1;33m(\u001b[0m\u001b[0mX\u001b[0m\u001b[1;33m,\u001b[0m \u001b[0my\u001b[0m\u001b[1;33m,\u001b[0m \u001b[0mgroups\u001b[0m\u001b[1;33m,\u001b[0m \u001b[0msampled_params\u001b[0m\u001b[1;33m)\u001b[0m\u001b[1;33m\u001b[0m\u001b[0m\n\u001b[0m",
      "\u001b[0;32mC:\\Users\\user\\Anaconda3.6\\envs\\python35env\\lib\\site-packages\\sklearn\\model_selection\\_search.py\u001b[0m in \u001b[0;36m_fit\u001b[0;34m(self, X, y, groups, parameter_iterable)\u001b[0m\n\u001b[1;32m    562\u001b[0m                                   \u001b[0mreturn_times\u001b[0m\u001b[1;33m=\u001b[0m\u001b[1;32mTrue\u001b[0m\u001b[1;33m,\u001b[0m \u001b[0mreturn_parameters\u001b[0m\u001b[1;33m=\u001b[0m\u001b[1;32mTrue\u001b[0m\u001b[1;33m,\u001b[0m\u001b[1;33m\u001b[0m\u001b[0m\n\u001b[1;32m    563\u001b[0m                                   error_score=self.error_score)\n\u001b[0;32m--> 564\u001b[0;31m           \u001b[1;32mfor\u001b[0m \u001b[0mparameters\u001b[0m \u001b[1;32min\u001b[0m \u001b[0mparameter_iterable\u001b[0m\u001b[1;33m\u001b[0m\u001b[0m\n\u001b[0m\u001b[1;32m    565\u001b[0m           for train, test in cv_iter)\n\u001b[1;32m    566\u001b[0m \u001b[1;33m\u001b[0m\u001b[0m\n",
      "\u001b[0;32mC:\\Users\\user\\Anaconda3.6\\envs\\python35env\\lib\\site-packages\\sklearn\\externals\\joblib\\parallel.py\u001b[0m in \u001b[0;36m__call__\u001b[0;34m(self, iterable)\u001b[0m\n\u001b[1;32m    756\u001b[0m             \u001b[1;31m# was dispatched. In particular this covers the edge\u001b[0m\u001b[1;33m\u001b[0m\u001b[1;33m\u001b[0m\u001b[0m\n\u001b[1;32m    757\u001b[0m             \u001b[1;31m# case of Parallel used with an exhausted iterator.\u001b[0m\u001b[1;33m\u001b[0m\u001b[1;33m\u001b[0m\u001b[0m\n\u001b[0;32m--> 758\u001b[0;31m             \u001b[1;32mwhile\u001b[0m \u001b[0mself\u001b[0m\u001b[1;33m.\u001b[0m\u001b[0mdispatch_one_batch\u001b[0m\u001b[1;33m(\u001b[0m\u001b[0miterator\u001b[0m\u001b[1;33m)\u001b[0m\u001b[1;33m:\u001b[0m\u001b[1;33m\u001b[0m\u001b[0m\n\u001b[0m\u001b[1;32m    759\u001b[0m                 \u001b[0mself\u001b[0m\u001b[1;33m.\u001b[0m\u001b[0m_iterating\u001b[0m \u001b[1;33m=\u001b[0m \u001b[1;32mTrue\u001b[0m\u001b[1;33m\u001b[0m\u001b[0m\n\u001b[1;32m    760\u001b[0m             \u001b[1;32melse\u001b[0m\u001b[1;33m:\u001b[0m\u001b[1;33m\u001b[0m\u001b[0m\n",
      "\u001b[0;32mC:\\Users\\user\\Anaconda3.6\\envs\\python35env\\lib\\site-packages\\sklearn\\externals\\joblib\\parallel.py\u001b[0m in \u001b[0;36mdispatch_one_batch\u001b[0;34m(self, iterator)\u001b[0m\n\u001b[1;32m    606\u001b[0m                 \u001b[1;32mreturn\u001b[0m \u001b[1;32mFalse\u001b[0m\u001b[1;33m\u001b[0m\u001b[0m\n\u001b[1;32m    607\u001b[0m             \u001b[1;32melse\u001b[0m\u001b[1;33m:\u001b[0m\u001b[1;33m\u001b[0m\u001b[0m\n\u001b[0;32m--> 608\u001b[0;31m                 \u001b[0mself\u001b[0m\u001b[1;33m.\u001b[0m\u001b[0m_dispatch\u001b[0m\u001b[1;33m(\u001b[0m\u001b[0mtasks\u001b[0m\u001b[1;33m)\u001b[0m\u001b[1;33m\u001b[0m\u001b[0m\n\u001b[0m\u001b[1;32m    609\u001b[0m                 \u001b[1;32mreturn\u001b[0m \u001b[1;32mTrue\u001b[0m\u001b[1;33m\u001b[0m\u001b[0m\n\u001b[1;32m    610\u001b[0m \u001b[1;33m\u001b[0m\u001b[0m\n",
      "\u001b[0;32mC:\\Users\\user\\Anaconda3.6\\envs\\python35env\\lib\\site-packages\\sklearn\\externals\\joblib\\parallel.py\u001b[0m in \u001b[0;36m_dispatch\u001b[0;34m(self, batch)\u001b[0m\n\u001b[1;32m    569\u001b[0m         \u001b[0mdispatch_timestamp\u001b[0m \u001b[1;33m=\u001b[0m \u001b[0mtime\u001b[0m\u001b[1;33m.\u001b[0m\u001b[0mtime\u001b[0m\u001b[1;33m(\u001b[0m\u001b[1;33m)\u001b[0m\u001b[1;33m\u001b[0m\u001b[0m\n\u001b[1;32m    570\u001b[0m         \u001b[0mcb\u001b[0m \u001b[1;33m=\u001b[0m \u001b[0mBatchCompletionCallBack\u001b[0m\u001b[1;33m(\u001b[0m\u001b[0mdispatch_timestamp\u001b[0m\u001b[1;33m,\u001b[0m \u001b[0mlen\u001b[0m\u001b[1;33m(\u001b[0m\u001b[0mbatch\u001b[0m\u001b[1;33m)\u001b[0m\u001b[1;33m,\u001b[0m \u001b[0mself\u001b[0m\u001b[1;33m)\u001b[0m\u001b[1;33m\u001b[0m\u001b[0m\n\u001b[0;32m--> 571\u001b[0;31m         \u001b[0mjob\u001b[0m \u001b[1;33m=\u001b[0m \u001b[0mself\u001b[0m\u001b[1;33m.\u001b[0m\u001b[0m_backend\u001b[0m\u001b[1;33m.\u001b[0m\u001b[0mapply_async\u001b[0m\u001b[1;33m(\u001b[0m\u001b[0mbatch\u001b[0m\u001b[1;33m,\u001b[0m \u001b[0mcallback\u001b[0m\u001b[1;33m=\u001b[0m\u001b[0mcb\u001b[0m\u001b[1;33m)\u001b[0m\u001b[1;33m\u001b[0m\u001b[0m\n\u001b[0m\u001b[1;32m    572\u001b[0m         \u001b[0mself\u001b[0m\u001b[1;33m.\u001b[0m\u001b[0m_jobs\u001b[0m\u001b[1;33m.\u001b[0m\u001b[0mappend\u001b[0m\u001b[1;33m(\u001b[0m\u001b[0mjob\u001b[0m\u001b[1;33m)\u001b[0m\u001b[1;33m\u001b[0m\u001b[0m\n\u001b[1;32m    573\u001b[0m \u001b[1;33m\u001b[0m\u001b[0m\n",
      "\u001b[0;32mC:\\Users\\user\\Anaconda3.6\\envs\\python35env\\lib\\site-packages\\sklearn\\externals\\joblib\\_parallel_backends.py\u001b[0m in \u001b[0;36mapply_async\u001b[0;34m(self, func, callback)\u001b[0m\n\u001b[1;32m    107\u001b[0m     \u001b[1;32mdef\u001b[0m \u001b[0mapply_async\u001b[0m\u001b[1;33m(\u001b[0m\u001b[0mself\u001b[0m\u001b[1;33m,\u001b[0m \u001b[0mfunc\u001b[0m\u001b[1;33m,\u001b[0m \u001b[0mcallback\u001b[0m\u001b[1;33m=\u001b[0m\u001b[1;32mNone\u001b[0m\u001b[1;33m)\u001b[0m\u001b[1;33m:\u001b[0m\u001b[1;33m\u001b[0m\u001b[0m\n\u001b[1;32m    108\u001b[0m         \u001b[1;34m\"\"\"Schedule a func to be run\"\"\"\u001b[0m\u001b[1;33m\u001b[0m\u001b[0m\n\u001b[0;32m--> 109\u001b[0;31m         \u001b[0mresult\u001b[0m \u001b[1;33m=\u001b[0m \u001b[0mImmediateResult\u001b[0m\u001b[1;33m(\u001b[0m\u001b[0mfunc\u001b[0m\u001b[1;33m)\u001b[0m\u001b[1;33m\u001b[0m\u001b[0m\n\u001b[0m\u001b[1;32m    110\u001b[0m         \u001b[1;32mif\u001b[0m \u001b[0mcallback\u001b[0m\u001b[1;33m:\u001b[0m\u001b[1;33m\u001b[0m\u001b[0m\n\u001b[1;32m    111\u001b[0m             \u001b[0mcallback\u001b[0m\u001b[1;33m(\u001b[0m\u001b[0mresult\u001b[0m\u001b[1;33m)\u001b[0m\u001b[1;33m\u001b[0m\u001b[0m\n",
      "\u001b[0;32mC:\\Users\\user\\Anaconda3.6\\envs\\python35env\\lib\\site-packages\\sklearn\\externals\\joblib\\_parallel_backends.py\u001b[0m in \u001b[0;36m__init__\u001b[0;34m(self, batch)\u001b[0m\n\u001b[1;32m    324\u001b[0m         \u001b[1;31m# Don't delay the application, to avoid keeping the input\u001b[0m\u001b[1;33m\u001b[0m\u001b[1;33m\u001b[0m\u001b[0m\n\u001b[1;32m    325\u001b[0m         \u001b[1;31m# arguments in memory\u001b[0m\u001b[1;33m\u001b[0m\u001b[1;33m\u001b[0m\u001b[0m\n\u001b[0;32m--> 326\u001b[0;31m         \u001b[0mself\u001b[0m\u001b[1;33m.\u001b[0m\u001b[0mresults\u001b[0m \u001b[1;33m=\u001b[0m \u001b[0mbatch\u001b[0m\u001b[1;33m(\u001b[0m\u001b[1;33m)\u001b[0m\u001b[1;33m\u001b[0m\u001b[0m\n\u001b[0m\u001b[1;32m    327\u001b[0m \u001b[1;33m\u001b[0m\u001b[0m\n\u001b[1;32m    328\u001b[0m     \u001b[1;32mdef\u001b[0m \u001b[0mget\u001b[0m\u001b[1;33m(\u001b[0m\u001b[0mself\u001b[0m\u001b[1;33m)\u001b[0m\u001b[1;33m:\u001b[0m\u001b[1;33m\u001b[0m\u001b[0m\n",
      "\u001b[0;32mC:\\Users\\user\\Anaconda3.6\\envs\\python35env\\lib\\site-packages\\sklearn\\externals\\joblib\\parallel.py\u001b[0m in \u001b[0;36m__call__\u001b[0;34m(self)\u001b[0m\n\u001b[1;32m    129\u001b[0m \u001b[1;33m\u001b[0m\u001b[0m\n\u001b[1;32m    130\u001b[0m     \u001b[1;32mdef\u001b[0m \u001b[0m__call__\u001b[0m\u001b[1;33m(\u001b[0m\u001b[0mself\u001b[0m\u001b[1;33m)\u001b[0m\u001b[1;33m:\u001b[0m\u001b[1;33m\u001b[0m\u001b[0m\n\u001b[0;32m--> 131\u001b[0;31m         \u001b[1;32mreturn\u001b[0m \u001b[1;33m[\u001b[0m\u001b[0mfunc\u001b[0m\u001b[1;33m(\u001b[0m\u001b[1;33m*\u001b[0m\u001b[0margs\u001b[0m\u001b[1;33m,\u001b[0m \u001b[1;33m**\u001b[0m\u001b[0mkwargs\u001b[0m\u001b[1;33m)\u001b[0m \u001b[1;32mfor\u001b[0m \u001b[0mfunc\u001b[0m\u001b[1;33m,\u001b[0m \u001b[0margs\u001b[0m\u001b[1;33m,\u001b[0m \u001b[0mkwargs\u001b[0m \u001b[1;32min\u001b[0m \u001b[0mself\u001b[0m\u001b[1;33m.\u001b[0m\u001b[0mitems\u001b[0m\u001b[1;33m]\u001b[0m\u001b[1;33m\u001b[0m\u001b[0m\n\u001b[0m\u001b[1;32m    132\u001b[0m \u001b[1;33m\u001b[0m\u001b[0m\n\u001b[1;32m    133\u001b[0m     \u001b[1;32mdef\u001b[0m \u001b[0m__len__\u001b[0m\u001b[1;33m(\u001b[0m\u001b[0mself\u001b[0m\u001b[1;33m)\u001b[0m\u001b[1;33m:\u001b[0m\u001b[1;33m\u001b[0m\u001b[0m\n",
      "\u001b[0;32mC:\\Users\\user\\Anaconda3.6\\envs\\python35env\\lib\\site-packages\\sklearn\\externals\\joblib\\parallel.py\u001b[0m in \u001b[0;36m<listcomp>\u001b[0;34m(.0)\u001b[0m\n\u001b[1;32m    129\u001b[0m \u001b[1;33m\u001b[0m\u001b[0m\n\u001b[1;32m    130\u001b[0m     \u001b[1;32mdef\u001b[0m \u001b[0m__call__\u001b[0m\u001b[1;33m(\u001b[0m\u001b[0mself\u001b[0m\u001b[1;33m)\u001b[0m\u001b[1;33m:\u001b[0m\u001b[1;33m\u001b[0m\u001b[0m\n\u001b[0;32m--> 131\u001b[0;31m         \u001b[1;32mreturn\u001b[0m \u001b[1;33m[\u001b[0m\u001b[0mfunc\u001b[0m\u001b[1;33m(\u001b[0m\u001b[1;33m*\u001b[0m\u001b[0margs\u001b[0m\u001b[1;33m,\u001b[0m \u001b[1;33m**\u001b[0m\u001b[0mkwargs\u001b[0m\u001b[1;33m)\u001b[0m \u001b[1;32mfor\u001b[0m \u001b[0mfunc\u001b[0m\u001b[1;33m,\u001b[0m \u001b[0margs\u001b[0m\u001b[1;33m,\u001b[0m \u001b[0mkwargs\u001b[0m \u001b[1;32min\u001b[0m \u001b[0mself\u001b[0m\u001b[1;33m.\u001b[0m\u001b[0mitems\u001b[0m\u001b[1;33m]\u001b[0m\u001b[1;33m\u001b[0m\u001b[0m\n\u001b[0m\u001b[1;32m    132\u001b[0m \u001b[1;33m\u001b[0m\u001b[0m\n\u001b[1;32m    133\u001b[0m     \u001b[1;32mdef\u001b[0m \u001b[0m__len__\u001b[0m\u001b[1;33m(\u001b[0m\u001b[0mself\u001b[0m\u001b[1;33m)\u001b[0m\u001b[1;33m:\u001b[0m\u001b[1;33m\u001b[0m\u001b[0m\n",
      "\u001b[0;32mC:\\Users\\user\\Anaconda3.6\\envs\\python35env\\lib\\site-packages\\sklearn\\model_selection\\_validation.py\u001b[0m in \u001b[0;36m_fit_and_score\u001b[0;34m(estimator, X, y, scorer, train, test, verbose, parameters, fit_params, return_train_score, return_parameters, return_n_test_samples, return_times, error_score)\u001b[0m\n\u001b[1;32m    236\u001b[0m             \u001b[0mestimator\u001b[0m\u001b[1;33m.\u001b[0m\u001b[0mfit\u001b[0m\u001b[1;33m(\u001b[0m\u001b[0mX_train\u001b[0m\u001b[1;33m,\u001b[0m \u001b[1;33m**\u001b[0m\u001b[0mfit_params\u001b[0m\u001b[1;33m)\u001b[0m\u001b[1;33m\u001b[0m\u001b[0m\n\u001b[1;32m    237\u001b[0m         \u001b[1;32melse\u001b[0m\u001b[1;33m:\u001b[0m\u001b[1;33m\u001b[0m\u001b[0m\n\u001b[0;32m--> 238\u001b[0;31m             \u001b[0mestimator\u001b[0m\u001b[1;33m.\u001b[0m\u001b[0mfit\u001b[0m\u001b[1;33m(\u001b[0m\u001b[0mX_train\u001b[0m\u001b[1;33m,\u001b[0m \u001b[0my_train\u001b[0m\u001b[1;33m,\u001b[0m \u001b[1;33m**\u001b[0m\u001b[0mfit_params\u001b[0m\u001b[1;33m)\u001b[0m\u001b[1;33m\u001b[0m\u001b[0m\n\u001b[0m\u001b[1;32m    239\u001b[0m \u001b[1;33m\u001b[0m\u001b[0m\n\u001b[1;32m    240\u001b[0m     \u001b[1;32mexcept\u001b[0m \u001b[0mException\u001b[0m \u001b[1;32mas\u001b[0m \u001b[0me\u001b[0m\u001b[1;33m:\u001b[0m\u001b[1;33m\u001b[0m\u001b[0m\n",
      "\u001b[0;32mC:\\Users\\user\\Anaconda3.6\\envs\\python35env\\lib\\site-packages\\sklearn\\ensemble\\forest.py\u001b[0m in \u001b[0;36mfit\u001b[0;34m(self, X, y, sample_weight)\u001b[0m\n\u001b[1;32m    324\u001b[0m                     \u001b[0mt\u001b[0m\u001b[1;33m,\u001b[0m \u001b[0mself\u001b[0m\u001b[1;33m,\u001b[0m \u001b[0mX\u001b[0m\u001b[1;33m,\u001b[0m \u001b[0my\u001b[0m\u001b[1;33m,\u001b[0m \u001b[0msample_weight\u001b[0m\u001b[1;33m,\u001b[0m \u001b[0mi\u001b[0m\u001b[1;33m,\u001b[0m \u001b[0mlen\u001b[0m\u001b[1;33m(\u001b[0m\u001b[0mtrees\u001b[0m\u001b[1;33m)\u001b[0m\u001b[1;33m,\u001b[0m\u001b[1;33m\u001b[0m\u001b[0m\n\u001b[1;32m    325\u001b[0m                     verbose=self.verbose, class_weight=self.class_weight)\n\u001b[0;32m--> 326\u001b[0;31m                 for i, t in enumerate(trees))\n\u001b[0m\u001b[1;32m    327\u001b[0m \u001b[1;33m\u001b[0m\u001b[0m\n\u001b[1;32m    328\u001b[0m             \u001b[1;31m# Collect newly grown trees\u001b[0m\u001b[1;33m\u001b[0m\u001b[1;33m\u001b[0m\u001b[0m\n",
      "\u001b[0;32mC:\\Users\\user\\Anaconda3.6\\envs\\python35env\\lib\\site-packages\\sklearn\\externals\\joblib\\parallel.py\u001b[0m in \u001b[0;36m__call__\u001b[0;34m(self, iterable)\u001b[0m\n\u001b[1;32m    756\u001b[0m             \u001b[1;31m# was dispatched. In particular this covers the edge\u001b[0m\u001b[1;33m\u001b[0m\u001b[1;33m\u001b[0m\u001b[0m\n\u001b[1;32m    757\u001b[0m             \u001b[1;31m# case of Parallel used with an exhausted iterator.\u001b[0m\u001b[1;33m\u001b[0m\u001b[1;33m\u001b[0m\u001b[0m\n\u001b[0;32m--> 758\u001b[0;31m             \u001b[1;32mwhile\u001b[0m \u001b[0mself\u001b[0m\u001b[1;33m.\u001b[0m\u001b[0mdispatch_one_batch\u001b[0m\u001b[1;33m(\u001b[0m\u001b[0miterator\u001b[0m\u001b[1;33m)\u001b[0m\u001b[1;33m:\u001b[0m\u001b[1;33m\u001b[0m\u001b[0m\n\u001b[0m\u001b[1;32m    759\u001b[0m                 \u001b[0mself\u001b[0m\u001b[1;33m.\u001b[0m\u001b[0m_iterating\u001b[0m \u001b[1;33m=\u001b[0m \u001b[1;32mTrue\u001b[0m\u001b[1;33m\u001b[0m\u001b[0m\n\u001b[1;32m    760\u001b[0m             \u001b[1;32melse\u001b[0m\u001b[1;33m:\u001b[0m\u001b[1;33m\u001b[0m\u001b[0m\n",
      "\u001b[0;32mC:\\Users\\user\\Anaconda3.6\\envs\\python35env\\lib\\site-packages\\sklearn\\externals\\joblib\\parallel.py\u001b[0m in \u001b[0;36mdispatch_one_batch\u001b[0;34m(self, iterator)\u001b[0m\n\u001b[1;32m    606\u001b[0m                 \u001b[1;32mreturn\u001b[0m \u001b[1;32mFalse\u001b[0m\u001b[1;33m\u001b[0m\u001b[0m\n\u001b[1;32m    607\u001b[0m             \u001b[1;32melse\u001b[0m\u001b[1;33m:\u001b[0m\u001b[1;33m\u001b[0m\u001b[0m\n\u001b[0;32m--> 608\u001b[0;31m                 \u001b[0mself\u001b[0m\u001b[1;33m.\u001b[0m\u001b[0m_dispatch\u001b[0m\u001b[1;33m(\u001b[0m\u001b[0mtasks\u001b[0m\u001b[1;33m)\u001b[0m\u001b[1;33m\u001b[0m\u001b[0m\n\u001b[0m\u001b[1;32m    609\u001b[0m                 \u001b[1;32mreturn\u001b[0m \u001b[1;32mTrue\u001b[0m\u001b[1;33m\u001b[0m\u001b[0m\n\u001b[1;32m    610\u001b[0m \u001b[1;33m\u001b[0m\u001b[0m\n",
      "\u001b[0;32mC:\\Users\\user\\Anaconda3.6\\envs\\python35env\\lib\\site-packages\\sklearn\\externals\\joblib\\parallel.py\u001b[0m in \u001b[0;36m_dispatch\u001b[0;34m(self, batch)\u001b[0m\n\u001b[1;32m    569\u001b[0m         \u001b[0mdispatch_timestamp\u001b[0m \u001b[1;33m=\u001b[0m \u001b[0mtime\u001b[0m\u001b[1;33m.\u001b[0m\u001b[0mtime\u001b[0m\u001b[1;33m(\u001b[0m\u001b[1;33m)\u001b[0m\u001b[1;33m\u001b[0m\u001b[0m\n\u001b[1;32m    570\u001b[0m         \u001b[0mcb\u001b[0m \u001b[1;33m=\u001b[0m \u001b[0mBatchCompletionCallBack\u001b[0m\u001b[1;33m(\u001b[0m\u001b[0mdispatch_timestamp\u001b[0m\u001b[1;33m,\u001b[0m \u001b[0mlen\u001b[0m\u001b[1;33m(\u001b[0m\u001b[0mbatch\u001b[0m\u001b[1;33m)\u001b[0m\u001b[1;33m,\u001b[0m \u001b[0mself\u001b[0m\u001b[1;33m)\u001b[0m\u001b[1;33m\u001b[0m\u001b[0m\n\u001b[0;32m--> 571\u001b[0;31m         \u001b[0mjob\u001b[0m \u001b[1;33m=\u001b[0m \u001b[0mself\u001b[0m\u001b[1;33m.\u001b[0m\u001b[0m_backend\u001b[0m\u001b[1;33m.\u001b[0m\u001b[0mapply_async\u001b[0m\u001b[1;33m(\u001b[0m\u001b[0mbatch\u001b[0m\u001b[1;33m,\u001b[0m \u001b[0mcallback\u001b[0m\u001b[1;33m=\u001b[0m\u001b[0mcb\u001b[0m\u001b[1;33m)\u001b[0m\u001b[1;33m\u001b[0m\u001b[0m\n\u001b[0m\u001b[1;32m    572\u001b[0m         \u001b[0mself\u001b[0m\u001b[1;33m.\u001b[0m\u001b[0m_jobs\u001b[0m\u001b[1;33m.\u001b[0m\u001b[0mappend\u001b[0m\u001b[1;33m(\u001b[0m\u001b[0mjob\u001b[0m\u001b[1;33m)\u001b[0m\u001b[1;33m\u001b[0m\u001b[0m\n\u001b[1;32m    573\u001b[0m \u001b[1;33m\u001b[0m\u001b[0m\n",
      "\u001b[0;32mC:\\Users\\user\\Anaconda3.6\\envs\\python35env\\lib\\site-packages\\sklearn\\externals\\joblib\\_parallel_backends.py\u001b[0m in \u001b[0;36mapply_async\u001b[0;34m(self, func, callback)\u001b[0m\n\u001b[1;32m    107\u001b[0m     \u001b[1;32mdef\u001b[0m \u001b[0mapply_async\u001b[0m\u001b[1;33m(\u001b[0m\u001b[0mself\u001b[0m\u001b[1;33m,\u001b[0m \u001b[0mfunc\u001b[0m\u001b[1;33m,\u001b[0m \u001b[0mcallback\u001b[0m\u001b[1;33m=\u001b[0m\u001b[1;32mNone\u001b[0m\u001b[1;33m)\u001b[0m\u001b[1;33m:\u001b[0m\u001b[1;33m\u001b[0m\u001b[0m\n\u001b[1;32m    108\u001b[0m         \u001b[1;34m\"\"\"Schedule a func to be run\"\"\"\u001b[0m\u001b[1;33m\u001b[0m\u001b[0m\n\u001b[0;32m--> 109\u001b[0;31m         \u001b[0mresult\u001b[0m \u001b[1;33m=\u001b[0m \u001b[0mImmediateResult\u001b[0m\u001b[1;33m(\u001b[0m\u001b[0mfunc\u001b[0m\u001b[1;33m)\u001b[0m\u001b[1;33m\u001b[0m\u001b[0m\n\u001b[0m\u001b[1;32m    110\u001b[0m         \u001b[1;32mif\u001b[0m \u001b[0mcallback\u001b[0m\u001b[1;33m:\u001b[0m\u001b[1;33m\u001b[0m\u001b[0m\n\u001b[1;32m    111\u001b[0m             \u001b[0mcallback\u001b[0m\u001b[1;33m(\u001b[0m\u001b[0mresult\u001b[0m\u001b[1;33m)\u001b[0m\u001b[1;33m\u001b[0m\u001b[0m\n",
      "\u001b[0;32mC:\\Users\\user\\Anaconda3.6\\envs\\python35env\\lib\\site-packages\\sklearn\\externals\\joblib\\_parallel_backends.py\u001b[0m in \u001b[0;36m__init__\u001b[0;34m(self, batch)\u001b[0m\n\u001b[1;32m    324\u001b[0m         \u001b[1;31m# Don't delay the application, to avoid keeping the input\u001b[0m\u001b[1;33m\u001b[0m\u001b[1;33m\u001b[0m\u001b[0m\n\u001b[1;32m    325\u001b[0m         \u001b[1;31m# arguments in memory\u001b[0m\u001b[1;33m\u001b[0m\u001b[1;33m\u001b[0m\u001b[0m\n\u001b[0;32m--> 326\u001b[0;31m         \u001b[0mself\u001b[0m\u001b[1;33m.\u001b[0m\u001b[0mresults\u001b[0m \u001b[1;33m=\u001b[0m \u001b[0mbatch\u001b[0m\u001b[1;33m(\u001b[0m\u001b[1;33m)\u001b[0m\u001b[1;33m\u001b[0m\u001b[0m\n\u001b[0m\u001b[1;32m    327\u001b[0m \u001b[1;33m\u001b[0m\u001b[0m\n\u001b[1;32m    328\u001b[0m     \u001b[1;32mdef\u001b[0m \u001b[0mget\u001b[0m\u001b[1;33m(\u001b[0m\u001b[0mself\u001b[0m\u001b[1;33m)\u001b[0m\u001b[1;33m:\u001b[0m\u001b[1;33m\u001b[0m\u001b[0m\n",
      "\u001b[0;32mC:\\Users\\user\\Anaconda3.6\\envs\\python35env\\lib\\site-packages\\sklearn\\externals\\joblib\\parallel.py\u001b[0m in \u001b[0;36m__call__\u001b[0;34m(self)\u001b[0m\n\u001b[1;32m    129\u001b[0m \u001b[1;33m\u001b[0m\u001b[0m\n\u001b[1;32m    130\u001b[0m     \u001b[1;32mdef\u001b[0m \u001b[0m__call__\u001b[0m\u001b[1;33m(\u001b[0m\u001b[0mself\u001b[0m\u001b[1;33m)\u001b[0m\u001b[1;33m:\u001b[0m\u001b[1;33m\u001b[0m\u001b[0m\n\u001b[0;32m--> 131\u001b[0;31m         \u001b[1;32mreturn\u001b[0m \u001b[1;33m[\u001b[0m\u001b[0mfunc\u001b[0m\u001b[1;33m(\u001b[0m\u001b[1;33m*\u001b[0m\u001b[0margs\u001b[0m\u001b[1;33m,\u001b[0m \u001b[1;33m**\u001b[0m\u001b[0mkwargs\u001b[0m\u001b[1;33m)\u001b[0m \u001b[1;32mfor\u001b[0m \u001b[0mfunc\u001b[0m\u001b[1;33m,\u001b[0m \u001b[0margs\u001b[0m\u001b[1;33m,\u001b[0m \u001b[0mkwargs\u001b[0m \u001b[1;32min\u001b[0m \u001b[0mself\u001b[0m\u001b[1;33m.\u001b[0m\u001b[0mitems\u001b[0m\u001b[1;33m]\u001b[0m\u001b[1;33m\u001b[0m\u001b[0m\n\u001b[0m\u001b[1;32m    132\u001b[0m \u001b[1;33m\u001b[0m\u001b[0m\n\u001b[1;32m    133\u001b[0m     \u001b[1;32mdef\u001b[0m \u001b[0m__len__\u001b[0m\u001b[1;33m(\u001b[0m\u001b[0mself\u001b[0m\u001b[1;33m)\u001b[0m\u001b[1;33m:\u001b[0m\u001b[1;33m\u001b[0m\u001b[0m\n",
      "\u001b[0;32mC:\\Users\\user\\Anaconda3.6\\envs\\python35env\\lib\\site-packages\\sklearn\\externals\\joblib\\parallel.py\u001b[0m in \u001b[0;36m<listcomp>\u001b[0;34m(.0)\u001b[0m\n\u001b[1;32m    129\u001b[0m \u001b[1;33m\u001b[0m\u001b[0m\n\u001b[1;32m    130\u001b[0m     \u001b[1;32mdef\u001b[0m \u001b[0m__call__\u001b[0m\u001b[1;33m(\u001b[0m\u001b[0mself\u001b[0m\u001b[1;33m)\u001b[0m\u001b[1;33m:\u001b[0m\u001b[1;33m\u001b[0m\u001b[0m\n\u001b[0;32m--> 131\u001b[0;31m         \u001b[1;32mreturn\u001b[0m \u001b[1;33m[\u001b[0m\u001b[0mfunc\u001b[0m\u001b[1;33m(\u001b[0m\u001b[1;33m*\u001b[0m\u001b[0margs\u001b[0m\u001b[1;33m,\u001b[0m \u001b[1;33m**\u001b[0m\u001b[0mkwargs\u001b[0m\u001b[1;33m)\u001b[0m \u001b[1;32mfor\u001b[0m \u001b[0mfunc\u001b[0m\u001b[1;33m,\u001b[0m \u001b[0margs\u001b[0m\u001b[1;33m,\u001b[0m \u001b[0mkwargs\u001b[0m \u001b[1;32min\u001b[0m \u001b[0mself\u001b[0m\u001b[1;33m.\u001b[0m\u001b[0mitems\u001b[0m\u001b[1;33m]\u001b[0m\u001b[1;33m\u001b[0m\u001b[0m\n\u001b[0m\u001b[1;32m    132\u001b[0m \u001b[1;33m\u001b[0m\u001b[0m\n\u001b[1;32m    133\u001b[0m     \u001b[1;32mdef\u001b[0m \u001b[0m__len__\u001b[0m\u001b[1;33m(\u001b[0m\u001b[0mself\u001b[0m\u001b[1;33m)\u001b[0m\u001b[1;33m:\u001b[0m\u001b[1;33m\u001b[0m\u001b[0m\n",
      "\u001b[0;32mC:\\Users\\user\\Anaconda3.6\\envs\\python35env\\lib\\site-packages\\sklearn\\ensemble\\forest.py\u001b[0m in \u001b[0;36m_parallel_build_trees\u001b[0;34m(tree, forest, X, y, sample_weight, tree_idx, n_trees, verbose, class_weight)\u001b[0m\n\u001b[1;32m    118\u001b[0m             \u001b[0mcurr_sample_weight\u001b[0m \u001b[1;33m*=\u001b[0m \u001b[0mcompute_sample_weight\u001b[0m\u001b[1;33m(\u001b[0m\u001b[1;34m'balanced'\u001b[0m\u001b[1;33m,\u001b[0m \u001b[0my\u001b[0m\u001b[1;33m,\u001b[0m \u001b[0mindices\u001b[0m\u001b[1;33m)\u001b[0m\u001b[1;33m\u001b[0m\u001b[0m\n\u001b[1;32m    119\u001b[0m \u001b[1;33m\u001b[0m\u001b[0m\n\u001b[0;32m--> 120\u001b[0;31m         \u001b[0mtree\u001b[0m\u001b[1;33m.\u001b[0m\u001b[0mfit\u001b[0m\u001b[1;33m(\u001b[0m\u001b[0mX\u001b[0m\u001b[1;33m,\u001b[0m \u001b[0my\u001b[0m\u001b[1;33m,\u001b[0m \u001b[0msample_weight\u001b[0m\u001b[1;33m=\u001b[0m\u001b[0mcurr_sample_weight\u001b[0m\u001b[1;33m,\u001b[0m \u001b[0mcheck_input\u001b[0m\u001b[1;33m=\u001b[0m\u001b[1;32mFalse\u001b[0m\u001b[1;33m)\u001b[0m\u001b[1;33m\u001b[0m\u001b[0m\n\u001b[0m\u001b[1;32m    121\u001b[0m     \u001b[1;32melse\u001b[0m\u001b[1;33m:\u001b[0m\u001b[1;33m\u001b[0m\u001b[0m\n\u001b[1;32m    122\u001b[0m         \u001b[0mtree\u001b[0m\u001b[1;33m.\u001b[0m\u001b[0mfit\u001b[0m\u001b[1;33m(\u001b[0m\u001b[0mX\u001b[0m\u001b[1;33m,\u001b[0m \u001b[0my\u001b[0m\u001b[1;33m,\u001b[0m \u001b[0msample_weight\u001b[0m\u001b[1;33m=\u001b[0m\u001b[0msample_weight\u001b[0m\u001b[1;33m,\u001b[0m \u001b[0mcheck_input\u001b[0m\u001b[1;33m=\u001b[0m\u001b[1;32mFalse\u001b[0m\u001b[1;33m)\u001b[0m\u001b[1;33m\u001b[0m\u001b[0m\n",
      "\u001b[0;32mC:\\Users\\user\\Anaconda3.6\\envs\\python35env\\lib\\site-packages\\sklearn\\tree\\tree.py\u001b[0m in \u001b[0;36mfit\u001b[0;34m(self, X, y, sample_weight, check_input, X_idx_sorted)\u001b[0m\n\u001b[1;32m    737\u001b[0m             \u001b[0msample_weight\u001b[0m\u001b[1;33m=\u001b[0m\u001b[0msample_weight\u001b[0m\u001b[1;33m,\u001b[0m\u001b[1;33m\u001b[0m\u001b[0m\n\u001b[1;32m    738\u001b[0m             \u001b[0mcheck_input\u001b[0m\u001b[1;33m=\u001b[0m\u001b[0mcheck_input\u001b[0m\u001b[1;33m,\u001b[0m\u001b[1;33m\u001b[0m\u001b[0m\n\u001b[0;32m--> 739\u001b[0;31m             X_idx_sorted=X_idx_sorted)\n\u001b[0m\u001b[1;32m    740\u001b[0m         \u001b[1;32mreturn\u001b[0m \u001b[0mself\u001b[0m\u001b[1;33m\u001b[0m\u001b[0m\n\u001b[1;32m    741\u001b[0m \u001b[1;33m\u001b[0m\u001b[0m\n",
      "\u001b[0;32mC:\\Users\\user\\Anaconda3.6\\envs\\python35env\\lib\\site-packages\\sklearn\\tree\\tree.py\u001b[0m in \u001b[0;36mfit\u001b[0;34m(self, X, y, sample_weight, check_input, X_idx_sorted)\u001b[0m\n\u001b[1;32m    348\u001b[0m                                            self.min_impurity_split)\n\u001b[1;32m    349\u001b[0m \u001b[1;33m\u001b[0m\u001b[0m\n\u001b[0;32m--> 350\u001b[0;31m         \u001b[0mbuilder\u001b[0m\u001b[1;33m.\u001b[0m\u001b[0mbuild\u001b[0m\u001b[1;33m(\u001b[0m\u001b[0mself\u001b[0m\u001b[1;33m.\u001b[0m\u001b[0mtree_\u001b[0m\u001b[1;33m,\u001b[0m \u001b[0mX\u001b[0m\u001b[1;33m,\u001b[0m \u001b[0my\u001b[0m\u001b[1;33m,\u001b[0m \u001b[0msample_weight\u001b[0m\u001b[1;33m,\u001b[0m \u001b[0mX_idx_sorted\u001b[0m\u001b[1;33m)\u001b[0m\u001b[1;33m\u001b[0m\u001b[0m\n\u001b[0m\u001b[1;32m    351\u001b[0m \u001b[1;33m\u001b[0m\u001b[0m\n\u001b[1;32m    352\u001b[0m         \u001b[1;32mif\u001b[0m \u001b[0mself\u001b[0m\u001b[1;33m.\u001b[0m\u001b[0mn_outputs_\u001b[0m \u001b[1;33m==\u001b[0m \u001b[1;36m1\u001b[0m\u001b[1;33m:\u001b[0m\u001b[1;33m\u001b[0m\u001b[0m\n",
      "\u001b[0;31mKeyboardInterrupt\u001b[0m: "
     ],
     "output_type": "error"
    }
   ],
   "source": [
    "from time import time\n",
    "from scipy.stats import randint as sp_randint\n",
    "from scipy.stats import uniform as sp_uniform\n",
    "import numpy as np\n",
    "from sklearn.model_selection import RandomizedSearchCV\n",
    "from sklearn.ensemble import GradientBoostingClassifier,RandomForestClassifier\n",
    "#from xgboost import XGBClassifier\n",
    "\n",
    "\n",
    "# build a classifier\n",
    "clf = RandomForestClassifier()\n",
    "\n",
    "# specify parameters and distributions to sample from\n",
    "param_dist = {#\"learning_rate\":sp_uniform(0.06,0.1),\n",
    "              \"n_estimators\":sp_randint(40,110),\n",
    "               #'subsample': np.random.uniform(0.3,0.999,1000),\n",
    "              'min_samples_split':sp_randint(30,150),\n",
    "               }\n",
    "\n",
    "# run randomized search\n",
    "n_iter_search = 20\n",
    "random_search = RandomizedSearchCV(clf, param_distributions=param_dist,\n",
    "                                   n_iter=n_iter_search,scoring='accuracy')\n",
    "\n",
    "start = time()\n",
    "random_search.fit(tfidf_train.toarray(),train_df[\"final_status\"])\n",
    "print(\"RandomizedSearchCV took %.2f seconds for %d candidates\"\n",
    "      \" parameter settings.\" % ((time() - start), n_iter_search))\n",
    "\n",
    "report(random_search.cv_results_,n_top=10)"
   ]
  },
  {
   "cell_type": "code",
   "execution_count": 10,
   "metadata": {},
   "outputs": [
    {
     "name": "stdout",
     "output_type": "stream",
     "text": [
      "Report generated at 20-06-2017 19:07:01\n\nModel with rank: 1\nMean validation score: 0.422921 (std: 0.183223),time:12.973\nParameters: {'learning_rate': 0.073852187138425771, 'min_samples_split': 267, 'n_estimators': 65}\n\nModel with rank: 2\nMean validation score: 0.422838 (std: 0.183293),time:7.517\nParameters: {'learning_rate': 0.12001840513311865, 'min_samples_split': 61, 'n_estimators': 61}\n\nModel with rank: 3\nMean validation score: 0.422828 (std: 0.183301),time:26.520\nParameters: {'learning_rate': 0.10597065524294731, 'min_samples_split': 43, 'n_estimators': 105}\n\n"
     ]
    }
   ],
   "source": [
    "report(random_search.cv_results_)"
   ]
  },
  {
   "cell_type": "markdown",
   "metadata": {},
   "source": [
    "#now do the actual testing"
   ]
  },
  {
   "cell_type": "code",
   "execution_count": 58,
   "metadata": {
    "collapsed": false
   },
   "outputs": [],
   "source": [
    "import pandas as pd\n",
    "import  numpy as np\n",
    "#from sklearn.feature_extraction.text import TfidfVectorizer\n",
    "\n",
    "test_df = pd.read_csv(\"Funding Successful Projects prediction/raw data/test.csv\",\n",
    "                       usecols=[\"name\",\"desc\",\"project_id\"])\n",
    "test_df.fillna(value=\"not known\",inplace=True)\n",
    "test_df.drop([\"name\",\"desc\"],axis=1,inplace=True)\n",
    "\n",
    "test_text =preprocess_text(test_df)\n",
    "tfidf_test = tv.transform(test_text)"
   ]
  },
  {
   "cell_type": "code",
   "execution_count": 60,
   "metadata": {},
   "outputs": [],
   "source": [
    "#can skip straight to here if test data is loaded and clf is trained\n",
    "submit_df = pd.DataFrame()\n",
    "submit_df[\"project_id\"] = test_df[\"project_id\"]\n",
    "submit_df[\"final_status\"]=grid.predict(tfidf_test)\n",
    "\n",
    "from time import strftime\n",
    "current_time = strftime(\"%d-%b-%Y %H-%M-%S\")\n",
    "submit_df.to_csv(\"Funding Successful Projects prediction/output_data/successful projects detection\"\n",
    "                       \"_results_{0}.csv\".format(current_time)\n",
    "                       ,index=False)"
   ]
  }
 ],
 "metadata": {
  "kernelspec": {
   "display_name": "Python 2",
   "language": "python",
   "name": "python2"
  },
  "language_info": {
   "codemirror_mode": {
    "name": "ipython",
    "version": 2.0
   },
   "file_extension": ".py",
   "mimetype": "text/x-python",
   "name": "python",
   "nbconvert_exporter": "python",
   "pygments_lexer": "ipython2",
   "version": "2.7.6"
  }
 },
 "nbformat": 4,
 "nbformat_minor": 0
}
